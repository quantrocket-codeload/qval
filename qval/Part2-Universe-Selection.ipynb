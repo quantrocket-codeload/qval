{
 "cells": [
  {
   "cell_type": "markdown",
   "metadata": {},
   "source": [
    "<a href=\"https://www.quantrocket.com\"><img alt=\"QuantRocket logo\" src=\"https://www.quantrocket.com/assets/img/notebook-header-logo.png\"></a><br>\n",
    "<a href=\"https://www.quantrocket.com/disclaimer/\">Disclaimer</a>"
   ]
  },
  {
   "cell_type": "markdown",
   "metadata": {},
   "source": [
    "# Universe Selection\n",
    "\n",
    "The Alpha Architect white paper calls for the trading strategy to run on the universe of NYSE stocks, excluding financials, REITs, and ADRs. Thus our first step is to create universes that define these different groups of securities."
   ]
  },
  {
   "cell_type": "markdown",
   "metadata": {},
   "source": [
    "## All NYSE securities\n",
    "\n",
    "First, download a CSV of all NYSE securities from the securities master. We use `fields=\"sharadar*\"` to include all Sharadar master fields in the output. We use `vendors=\"sharadar\"` to limit to securities which are available from Sharadar.  "
   ]
  },
  {
   "cell_type": "code",
   "execution_count": 1,
   "metadata": {},
   "outputs": [],
   "source": [
    "from quantrocket.master import download_master_file\n",
    "download_master_file(\"sharadar_nyse_securities.csv\", exchanges=\"NYSE\", fields=\"sharadar*\", vendors=\"sharadar\")"
   ]
  },
  {
   "cell_type": "markdown",
   "metadata": {},
   "source": [
    "We can use the file to create the universe of all NYSE securities:"
   ]
  },
  {
   "cell_type": "code",
   "execution_count": 2,
   "metadata": {},
   "outputs": [
    {
     "data": {
      "text/plain": [
       "{'code': 'nyse-stk',\n",
       " 'provided': 6777,\n",
       " 'inserted': 6777,\n",
       " 'total_after_insert': 6777}"
      ]
     },
     "execution_count": 2,
     "metadata": {},
     "output_type": "execute_result"
    }
   ],
   "source": [
    "from quantrocket.master import create_universe\n",
    "create_universe(\"nyse-stk\", \"sharadar_nyse_securities.csv\")"
   ]
  },
  {
   "cell_type": "markdown",
   "metadata": {},
   "source": [
    "## Financials\n",
    "\n",
    "Next we create a universe of financials. We'll exclude this universe (along with REITs and ADRs) when it comes time to run our backtest. \n",
    "\n",
    "First load the securities into Pandas and list the sectors:"
   ]
  },
  {
   "cell_type": "code",
   "execution_count": 3,
   "metadata": {},
   "outputs": [
    {
     "data": {
      "text/plain": [
       "array(['Financial Services', 'Real Estate', 'Utilities', nan,\n",
       "       'Industrials', 'Healthcare', 'Basic Materials',\n",
       "       'Consumer Cyclical', 'Energy', 'Communication Services',\n",
       "       'Consumer Defensive', 'Technology'], dtype=object)"
      ]
     },
     "execution_count": 3,
     "metadata": {},
     "output_type": "execute_result"
    }
   ],
   "source": [
    "import pandas as pd\n",
    "nyse_securities = pd.read_csv(\"sharadar_nyse_securities.csv\")\n",
    "nyse_securities.sharadar_Sector.unique()"
   ]
  },
  {
   "cell_type": "markdown",
   "metadata": {},
   "source": [
    "In the Sharadar data, the financial sector is called \"Financial Services\". We filter the DataFrame to stocks in this sector, write them to a file (we use an in-memory file so as not to clutter the hard drive), and upload the file to create the universe of financial stocks:"
   ]
  },
  {
   "cell_type": "code",
   "execution_count": 4,
   "metadata": {},
   "outputs": [
    {
     "data": {
      "text/plain": [
       "{'code': 'nyse-financials',\n",
       " 'provided': 872,\n",
       " 'inserted': 872,\n",
       " 'total_after_insert': 872}"
      ]
     },
     "execution_count": 4,
     "metadata": {},
     "output_type": "execute_result"
    }
   ],
   "source": [
    "nyse_securities[nyse_securities.sharadar_Sector == \"Financial Services\"].to_csv(\"sharadar_nyse_financials.csv\")\n",
    "create_universe(\"nyse-financials\", \"sharadar_nyse_financials.csv\")"
   ]
  },
  {
   "cell_type": "markdown",
   "metadata": {},
   "source": [
    "## REITS\n",
    "\n",
    "Next we create a universe of REITs. From inspecting the master file we know that REITs are identified in the \"sharadar_Industry\" column:"
   ]
  },
  {
   "cell_type": "code",
   "execution_count": 5,
   "metadata": {},
   "outputs": [
    {
     "data": {
      "text/plain": [
       "{'code': 'nyse-reits',\n",
       " 'provided': 637,\n",
       " 'inserted': 637,\n",
       " 'total_after_insert': 637}"
      ]
     },
     "execution_count": 5,
     "metadata": {},
     "output_type": "execute_result"
    }
   ],
   "source": [
    "nyse_securities[nyse_securities.sharadar_Industry.fillna(\"\").str.contains(\"REIT\")].to_csv(\"sharadar_nyse_reits.csv\")\n",
    "create_universe(\"nyse-reits\", \"sharadar_nyse_reits.csv\")"
   ]
  },
  {
   "cell_type": "markdown",
   "metadata": {},
   "source": [
    "## ADRs\n",
    "\n",
    "To create a universe of ADRs, we can take advantage of the \"sharadar_Category\" field in the Sharadar data, which contains this information. First have a peek:"
   ]
  },
  {
   "cell_type": "code",
   "execution_count": 6,
   "metadata": {},
   "outputs": [
    {
     "data": {
      "text/plain": [
       "array(['Domestic Preferred', 'ETD', 'ADR Preferred', 'Domestic', nan,\n",
       "       'ETN', 'CEF', 'ETF', 'Domestic Primary', 'ADR', 'Canadian',\n",
       "       'Domestic Secondary', 'ADR Primary', 'ADR Secondary',\n",
       "       'Canadian Primary', 'Domestic Warrant', 'Canadian Preferred',\n",
       "       'ADR Warrant', 'Canadian Warrant'], dtype=object)"
      ]
     },
     "execution_count": 6,
     "metadata": {},
     "output_type": "execute_result"
    }
   ],
   "source": [
    "nyse_securities.sharadar_Category.unique()"
   ]
  },
  {
   "cell_type": "code",
   "execution_count": 8,
   "metadata": {},
   "outputs": [
    {
     "data": {
      "text/html": [
       "<div>\n",
       "<style scoped>\n",
       "    .dataframe tbody tr th:only-of-type {\n",
       "        vertical-align: middle;\n",
       "    }\n",
       "\n",
       "    .dataframe tbody tr th {\n",
       "        vertical-align: top;\n",
       "    }\n",
       "\n",
       "    .dataframe thead th {\n",
       "        text-align: right;\n",
       "    }\n",
       "</style>\n",
       "<table border=\"1\" class=\"dataframe\">\n",
       "  <thead>\n",
       "    <tr style=\"text-align: right;\">\n",
       "      <th></th>\n",
       "      <th>sharadar_Ticker</th>\n",
       "      <th>sharadar_Name</th>\n",
       "      <th>sharadar_Category</th>\n",
       "    </tr>\n",
       "  </thead>\n",
       "  <tbody>\n",
       "    <tr>\n",
       "      <th>6</th>\n",
       "      <td>BCS-PD</td>\n",
       "      <td>Barclays Plc</td>\n",
       "      <td>ADR Preferred</td>\n",
       "    </tr>\n",
       "    <tr>\n",
       "      <th>12</th>\n",
       "      <td>HSEA</td>\n",
       "      <td>Hsbc Holdings Plc</td>\n",
       "      <td>ADR Preferred</td>\n",
       "    </tr>\n",
       "    <tr>\n",
       "      <th>14</th>\n",
       "      <td>BCS-PA</td>\n",
       "      <td>Barclays Plc</td>\n",
       "      <td>ADR Preferred</td>\n",
       "    </tr>\n",
       "    <tr>\n",
       "      <th>25</th>\n",
       "      <td>NBG-PA</td>\n",
       "      <td>National Bank Of Greece Sa</td>\n",
       "      <td>ADR Preferred</td>\n",
       "    </tr>\n",
       "    <tr>\n",
       "      <th>26</th>\n",
       "      <td>AHL-PA</td>\n",
       "      <td>Aspen Insurance Holdings Ltd</td>\n",
       "      <td>ADR Preferred</td>\n",
       "    </tr>\n",
       "  </tbody>\n",
       "</table>\n",
       "</div>"
      ],
      "text/plain": [
       "   sharadar_Ticker                 sharadar_Name sharadar_Category\n",
       "6           BCS-PD                  Barclays Plc     ADR Preferred\n",
       "12            HSEA             Hsbc Holdings Plc     ADR Preferred\n",
       "14          BCS-PA                  Barclays Plc     ADR Preferred\n",
       "25          NBG-PA    National Bank Of Greece Sa     ADR Preferred\n",
       "26          AHL-PA  Aspen Insurance Holdings Ltd     ADR Preferred"
      ]
     },
     "execution_count": 8,
     "metadata": {},
     "output_type": "execute_result"
    }
   ],
   "source": [
    "nyse_securities[nyse_securities.sharadar_Category.fillna(\"\").str.startswith(\"ADR\")][[\"sharadar_Ticker\",\"sharadar_Name\",\"sharadar_Category\"]].head()"
   ]
  },
  {
   "cell_type": "markdown",
   "metadata": {},
   "source": [
    "Then create the ADR universe:"
   ]
  },
  {
   "cell_type": "code",
   "execution_count": 9,
   "metadata": {},
   "outputs": [
    {
     "data": {
      "text/plain": [
       "{'code': 'nyse-adrs',\n",
       " 'provided': 656,\n",
       " 'inserted': 656,\n",
       " 'total_after_insert': 656}"
      ]
     },
     "execution_count": 9,
     "metadata": {},
     "output_type": "execute_result"
    }
   ],
   "source": [
    "nyse_securities[nyse_securities.sharadar_Category.fillna(\"\").str.startswith(\"ADR\")].to_csv(\"sharadar_nyse_adrs.csv\")\n",
    "create_universe(\"nyse-adrs\", \"sharadar_nyse_adrs.csv\")"
   ]
  },
  {
   "cell_type": "markdown",
   "metadata": {},
   "source": [
    "***\n",
    "\n",
    "## *Next Up*\n",
    "\n",
    "Part 3: [Interactive Strategy Development](Part3-Interactive-Strategy-Development.ipynb)"
   ]
  }
 ],
 "metadata": {
  "kernelspec": {
   "display_name": "Python 3",
   "language": "python",
   "name": "python3"
  },
  "language_info": {
   "codemirror_mode": {
    "name": "ipython",
    "version": 3
   },
   "file_extension": ".py",
   "mimetype": "text/x-python",
   "name": "python",
   "nbconvert_exporter": "python",
   "pygments_lexer": "ipython3",
   "version": "3.6.6"
  }
 },
 "nbformat": 4,
 "nbformat_minor": 4
}
