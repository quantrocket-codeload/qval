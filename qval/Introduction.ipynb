{
 "cells": [
  {
   "cell_type": "markdown",
   "metadata": {},
   "source": [
    "<a href=\"https://www.quantrocket.com\"><img alt=\"QuantRocket logo\" src=\"https://www.quantrocket.com/assets/img/notebook-header-logo.png\"></a><br>\n",
    "<a href=\"https://www.quantrocket.com/disclaimer/\">Disclaimer</a>"
   ]
  },
  {
   "cell_type": "markdown",
   "metadata": {},
   "source": [
    "# QVAL: Quantitative Value\n",
    "\n",
    "This tutorial will show you how to run a value investing strategy in Moonshot using Sharadar US fundamental and price data. The investing strategy is modeled on [Alpha Architect's QVAL ETF](https://etfsite.alphaarchitect.com/qval/) and uses the enterprise multiple and Piotroski F-Score to target cheap, high-quality stocks.\n",
    "\n",
    "The rules of the QVAL strategy as outlined in the Alpha Architect white paper are:\n",
    "\n",
    "1. Universe selection\n",
    "    1. Starting universe: all NYSE stocks\n",
    "    2. Exclude financials, ADRs, REITs\n",
    "    3. Liquidity screen: select top N percent of stocks by market cap (N=60)\n",
    "2. Apply value screen: select cheapest N percent of stocks by enterprise multiple (EV/EBIT) (N=10)\n",
    "3. Rank by quality: of the value stocks, select the N percent with the highest quality, as ranked by Piotroski F-Score (N=50)\n",
    "4. Apply equal weights    \n",
    "5. Rebalance portfolio quarterly\n",
    "\n",
    "\n",
    "\n",
    "* Part 1: [Data Collection](Part1-Data-Collection.ipynb)\n",
    "* Part 2: [Universe Selection](Part2-Universe-Selection.ipynb)\n",
    "* Part 3: [Interactive Strategy Development](Part3-Interactive-Strategy-Development.ipynb)\n",
    "* Part 4: [Moonshot Backtest](Part4-Moonshot-Backtest.ipynb)\n",
    "* Part 5: [Parameter Scans](Part5-Parameter-Scans.ipynb)"
   ]
  }
 ],
 "metadata": {
  "kernelspec": {
   "display_name": "Python 3",
   "language": "python",
   "name": "python3"
  },
  "language_info": {
   "codemirror_mode": {
    "name": "ipython",
    "version": 3
   },
   "file_extension": ".py",
   "mimetype": "text/x-python",
   "name": "python",
   "nbconvert_exporter": "python",
   "pygments_lexer": "ipython3",
   "version": "3.7.6"
  }
 },
 "nbformat": 4,
 "nbformat_minor": 4
}
